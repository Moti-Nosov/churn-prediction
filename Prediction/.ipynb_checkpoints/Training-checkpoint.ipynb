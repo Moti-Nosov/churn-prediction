{
 "cells": [
  {
   "cell_type": "markdown",
   "id": "ce63eef7-fc3c-424e-877f-e5552ec4e15b",
   "metadata": {},
   "source": [
    "# Python Project \"Churn\" – Part B"
   ]
  },
  {
   "cell_type": "markdown",
   "id": "dd7759d4-b36d-4b8c-96d9-18c5d9e19818",
   "metadata": {},
   "source": [
    "### Submitted by:\n",
    "#### Oriah Ben-Guy Mizrahi\n",
    "#### Mordechai Nosov\n",
    "#### Ruth Shkop "
   ]
  },
  {
   "cell_type": "markdown",
   "id": "0d4f46f9-c389-4ee7-9081-8039eb38528a",
   "metadata": {},
   "source": [
    "## Importing data:"
   ]
  },
  {
   "cell_type": "code",
   "execution_count": 1,
   "id": "5cddc6d3-7e19-4b3c-a76b-f78bf2fdf544",
   "metadata": {},
   "outputs": [],
   "source": [
    "import pymongo\n",
    "import pandas as pd\n",
    "from pymongo import MongoClient\n",
    "client = MongoClient('mongodb://localhost:27017/')\n",
    "db = client['BDA']\n",
    "from pandas import json_normalize\n",
    "import matplotlib.pyplot as plt\n",
    "from sklearn.ensemble import RandomForestClassifier\n",
    "from sklearn.metrics import accuracy_score"
   ]
  },
  {
   "cell_type": "markdown",
   "id": "dbcbb6be-97b4-42e9-aee9-103b31e2b7f6",
   "metadata": {},
   "source": [
    "## Data Cleaning:"
   ]
  },
  {
   "cell_type": "code",
   "execution_count": 2,
   "id": "9cab31fb-18e4-4be8-bf9b-5c101d1424c5",
   "metadata": {},
   "outputs": [],
   "source": [
    "list_cursor = list(db.Customers.find({}))\n",
    "\n",
    "normalized_data = json_normalize(list_cursor)\n",
    "\n",
    "df = pd.DataFrame(normalized_data)\n",
    "\n",
    "df = df.drop(columns=['_id'])\n",
    "\n",
    "df.columns = [col.split(\".\")[-1] for col in df.columns]\n",
    "\n",
    "df['PaperlessBilling'] = df['PaperlessBilling'].str[0]\n",
    "\n",
    "df.TotalCharges = pd.to_numeric(df.TotalCharges,errors='coerce')\n",
    "\n",
    "df['MonthlyCharges'] = df['MonthlyCharges'].round(2)\n",
    "\n",
    "df['tenure'] = df['tenure'].round().astype(float)\n",
    "\n",
    "df = df.dropna()\n",
    "\n",
    "column_order = [\n",
    "    \"customerID\", \"gender\", \"SeniorCitizen\", \"Partner\", \"Dependents\", \"tenure\",\n",
    "    \"PhoneService\", \"MultipleLines\", \"InternetService\", \"OnlineSecurity\", \n",
    "    \"OnlineBackup\", \"DeviceProtection\", \"TechSupport\", \"StreamingTV\", \n",
    "    \"StreamingMovies\", \"Contract\", \"PaperlessBilling\", \"PaymentMethod\", \n",
    "    \"MonthlyCharges\", \"TotalCharges\"\n",
    "]\n",
    "df = df[column_order]\n",
    "\n",
    "df.to_csv('churn_new_customers.csv', index =False)"
   ]
  },
  {
   "cell_type": "markdown",
   "id": "669437eb-3043-4467-920e-e3911f3aa360",
   "metadata": {},
   "source": [
    "## Creating Functions:"
   ]
  },
  {
   "cell_type": "markdown",
   "id": "a774a380-dfc3-44be-b183-40d775f69f91",
   "metadata": {},
   "source": [
    "### prep_new_data function"
   ]
  },
  {
   "cell_type": "code",
   "execution_count": 3,
   "id": "6fe40da9-6698-4496-9799-2a81904e50bd",
   "metadata": {},
   "outputs": [],
   "source": [
    "def prep_new_data(df):\n",
    "    \n",
    "    df = df.rename(columns=str.lower)\n",
    "    \n",
    "    df.totalcharges = pd.to_numeric(df.totalcharges,errors='coerce')\n",
    "    df = df.dropna(subset=['totalcharges'])\n",
    "    \n",
    "    services = ['phoneservice', 'multiplelines', 'internetservice', 'onlinesecurity', 'onlinebackup', 'deviceprotection', 'techsupport', 'streamingtv', 'streamingmovies']\n",
    "    df['num_services'] = (df[services] != 'No').sum(axis=1)\n",
    "\n",
    "    \n",
    "    l = []\n",
    "    \n",
    "    for n,v in df.items():\n",
    "        if df[n].dtypes == 'object':\n",
    "            if set(df[n].unique()) == {'Yes', 'No'}: \n",
    "                l.append(n)\n",
    "\n",
    "    \n",
    "    for n,v in df.items():\n",
    "        if df[n].dtypes == 'int64':\n",
    "            df[n] = df[n].astype('float')\n",
    "            df[n] = df[n].round(2)\n",
    "            \n",
    "    df['tenure'] = df['tenure'].round()\n",
    "    \n",
    "    for i in l:\n",
    "        df[i] = (df[i] == 'Yes').astype('float')\n",
    "        \n",
    "    df = df.applymap(lambda x: 'No' if isinstance(x, str) and x.startswith('No ') else x)\n",
    "    \n",
    "    df_aside = df['customerid']\n",
    "    df = df.drop('customerid', axis=1)\n",
    "    \n",
    "    df = pd.get_dummies(df)\n",
    "    \n",
    "    for n,v in df.items():\n",
    "        if df[n].dtypes == 'bool': \n",
    "            df[n] = df[n].astype('float')\n",
    "\n",
    "    df['customerid'] = df_aside\n",
    "    \n",
    "    print('')\n",
    "    \n",
    "    null = df.isna().sum().sum()\n",
    "    print (f'There are {null} null values')\n",
    "    \n",
    "    dtype = df.dtypes.unique()[0]\n",
    "    print (f'There are {dtype} dtype')\n",
    "    \n",
    "    print('')\n",
    "    \n",
    "    return df"
   ]
  },
  {
   "cell_type": "markdown",
   "id": "abf57670-47bf-4f6e-8548-c55039c5034e",
   "metadata": {},
   "source": [
    "### prep_data_train function"
   ]
  },
  {
   "cell_type": "code",
   "execution_count": 4,
   "id": "e486daa7-62bd-4beb-b07a-b8eed0b759f5",
   "metadata": {},
   "outputs": [],
   "source": [
    "def prep_data_train (df_churn):\n",
    "\n",
    "    df_churn = df_churn.rename(columns=str.lower)\n",
    "    \n",
    "    df_churn.totalcharges = pd.to_numeric(df_churn.totalcharges,errors='coerce')\n",
    "    df_churn = df_churn.dropna(subset=['totalcharges'])\n",
    "    \n",
    "    services = ['phoneservice', 'multiplelines', 'internetservice', 'onlinesecurity', 'onlinebackup', 'deviceprotection', 'techsupport', 'streamingtv', 'streamingmovies']\n",
    "    df_churn['num_services'] = (df_churn[services] != 'No').sum(axis=1)\n",
    "\n",
    "    \n",
    "    l = []\n",
    "    \n",
    "    for n,v in df_churn.items():\n",
    "        if df_churn[n].dtypes == 'object':\n",
    "            if set(df_churn[n].unique()) == {'Yes', 'No'}: \n",
    "                l.append(n)\n",
    "\n",
    "    \n",
    "    for n,v in df_churn.items():\n",
    "        if df_churn[n].dtypes == 'int64':\n",
    "            df_churn[n] = df_churn[n].astype('float')\n",
    "    \n",
    "    for i in l:\n",
    "        df_churn[i] = (df_churn[i] == 'Yes').astype('float')\n",
    "        \n",
    "    df_churn = df_churn.applymap(lambda x: 'No' if isinstance(x, str) and x.startswith('No ') else x)\n",
    "    \n",
    "    df_churn_aside = df_churn['customerid']\n",
    "    df_churn = df_churn.drop(['customerid'], axis=1)\n",
    "    \n",
    "    df_churn = pd.get_dummies(df_churn)\n",
    "    \n",
    "    df_churn = df_churn.join(df_churn_aside)\n",
    "    \n",
    "    for n,v in df_churn.items():\n",
    "        if df_churn[n].dtypes == 'bool': \n",
    "            df_churn[n] = df_churn[n].astype('float')\n",
    "\n",
    "    \n",
    "    print('')\n",
    "    \n",
    "    null = df_churn.isna().sum().sum()\n",
    "    print (f'There are {null} null values')\n",
    "    \n",
    "    dtype = df_churn.dtypes.unique()[0]\n",
    "    print (f'There are {dtype} dtype')\n",
    "    \n",
    "    print('')\n",
    "    \n",
    "    return df_churn"
   ]
  },
  {
   "cell_type": "markdown",
   "id": "0aef6514-d136-46cd-bc8d-761f92d0f240",
   "metadata": {},
   "source": [
    "### split_data_train"
   ]
  },
  {
   "cell_type": "code",
   "execution_count": 5,
   "id": "58e5533d-e68d-4223-869c-a178a76b47cd",
   "metadata": {},
   "outputs": [],
   "source": [
    "def split_data_train(df):\n",
    "    label = 'churn'\n",
    "    psn = 'customerid'\n",
    "\n",
    "    x_train = df.drop(label, axis=1)\n",
    "    x_train = x_train.drop(psn, axis=1)\n",
    "    y_train = df[label]\n",
    "    psn_train = df[psn]\n",
    "    \n",
    "    return x_train, y_train, psn_train"
   ]
  },
  {
   "cell_type": "markdown",
   "id": "e48536f8-5518-4154-8456-24dc95eace82",
   "metadata": {},
   "source": [
    "### split_new_data"
   ]
  },
  {
   "cell_type": "code",
   "execution_count": 6,
   "id": "9cd1b3d2-6db5-4dd2-8c3e-a67399880ad5",
   "metadata": {},
   "outputs": [],
   "source": [
    "def split_new_data(df):\n",
    "    psn = 'customerid'\n",
    "\n",
    "    x_new = df.drop(psn, axis=1)\n",
    "    psn_new = df[psn]\n",
    "    \n",
    "    return x_new, psn_new"
   ]
  },
  {
   "cell_type": "markdown",
   "id": "21b5f43b-93e0-412f-8ab6-4456075a5459",
   "metadata": {},
   "source": [
    "### training_random_forest"
   ]
  },
  {
   "cell_type": "code",
   "execution_count": 7,
   "id": "46d490af-8b4e-4f79-8364-82582157501f",
   "metadata": {},
   "outputs": [],
   "source": [
    "def training_random_forest(n, m, r, x_train, y_train):\n",
    "\n",
    "    model = RandomForestClassifier(n_estimators=n, max_depth=m, random_state=r)\n",
    "    model.fit(x_train, y_train)\n",
    "    \n",
    "    return model"
   ]
  },
  {
   "cell_type": "markdown",
   "id": "66d1f404-d3f7-485e-a431-1dd4140fa899",
   "metadata": {},
   "source": [
    "### rediction_random_forest"
   ]
  },
  {
   "cell_type": "code",
   "execution_count": 8,
   "id": "995f72f3-055f-4f92-946d-bbd37adc85a3",
   "metadata": {},
   "outputs": [],
   "source": [
    "def prediction_random_forest(model, x_new, df_orig):\n",
    "\n",
    "    y_new = model.predict(x_new) \n",
    "    y_new = pd.Series(y_new,name='churn_predict')\n",
    "    output = df_orig.join(y_new)\n",
    "    \n",
    "    return output"
   ]
  },
  {
   "cell_type": "markdown",
   "id": "5ed66560-bbf6-4589-b4a5-39ae369644a1",
   "metadata": {},
   "source": [
    "### random_forest_feature_importance"
   ]
  },
  {
   "cell_type": "code",
   "execution_count": 9,
   "id": "296d189e-3123-4cf5-9059-70fad3199053",
   "metadata": {},
   "outputs": [],
   "source": [
    "def random_forest_feature_importance(model, x_new):\n",
    "\n",
    "    feature_importances = model.feature_importances_ \n",
    "    features = x_new.columns\n",
    "    stats = pd.DataFrame({'feature':features, 'importance':feature_importances})\n",
    "    print(stats.sort_values('importance', ascending=False))\n",
    "\n",
    "    stats_sort = stats.sort_values('importance', ascending=True)\n",
    "    stats_sort.plot(y='importance', x='feature', kind='barh')\n",
    "    plt.title('Feature Importance of Random Forest')\n",
    "    plt.show()"
   ]
  },
  {
   "cell_type": "markdown",
   "id": "da309ec9-0cff-41fc-852b-a8ab622accfb",
   "metadata": {},
   "source": [
    "<br>\n",
    "<br>\n",
    "<hr class=\"dotted\">\n",
    "<br>\n",
    "<br>"
   ]
  },
  {
   "cell_type": "markdown",
   "id": "840cf0f7-d6b7-4c0b-bd6c-8ce049308853",
   "metadata": {},
   "source": [
    "## Load Data"
   ]
  },
  {
   "cell_type": "code",
   "execution_count": 10,
   "id": "3601b562-136d-4302-b16b-b766feb74821",
   "metadata": {},
   "outputs": [
    {
     "data": {
      "text/plain": [
       "(7043, 21)"
      ]
     },
     "execution_count": 10,
     "metadata": {},
     "output_type": "execute_result"
    }
   ],
   "source": [
    "churn_train_orig = pd.read_csv('churn.csv')\n",
    "churn_train_orig.shape"
   ]
  },
  {
   "cell_type": "code",
   "execution_count": 11,
   "id": "c86ec449-bb71-45be-a890-8d9645a5ff78",
   "metadata": {},
   "outputs": [
    {
     "data": {
      "text/plain": [
       "(23418, 20)"
      ]
     },
     "execution_count": 11,
     "metadata": {},
     "output_type": "execute_result"
    }
   ],
   "source": [
    "churn_new_orig = pd.read_csv('churn_new_customers.csv')\n",
    "churn_new_orig.shape"
   ]
  },
  {
   "cell_type": "markdown",
   "id": "7f7656cb-9cfa-4ea8-9f10-8af9d250d7c1",
   "metadata": {},
   "source": [
    "<br>\n",
    "<br>\n",
    "<hr class=\"dotted\">\n",
    "<br>\n",
    "<br>"
   ]
  },
  {
   "cell_type": "markdown",
   "id": "0f1669d9-22bb-4d4f-ab59-138631180f9d",
   "metadata": {},
   "source": [
    "## Prediction"
   ]
  },
  {
   "cell_type": "code",
   "execution_count": 12,
   "id": "6a2b6b78-b6fc-4189-ad8f-94456c2f3d13",
   "metadata": {},
   "outputs": [
    {
     "name": "stdout",
     "output_type": "stream",
     "text": [
      "\n",
      "There are 0 null values\n",
      "There are float64 dtype\n",
      "\n"
     ]
    },
    {
     "name": "stderr",
     "output_type": "stream",
     "text": [
      "C:\\Users\\7338797\\AppData\\Local\\Temp\\ipykernel_30380\\660074060.py:27: FutureWarning: DataFrame.applymap has been deprecated. Use DataFrame.map instead.\n",
      "  df_churn = df_churn.applymap(lambda x: 'No' if isinstance(x, str) and x.startswith('No ') else x)\n"
     ]
    }
   ],
   "source": [
    "churn_train = prep_data_train(churn_train_orig)"
   ]
  },
  {
   "cell_type": "code",
   "execution_count": 13,
   "id": "f605ffe7-16cc-41db-b6a4-d4bea5361177",
   "metadata": {},
   "outputs": [
    {
     "name": "stderr",
     "output_type": "stream",
     "text": [
      "C:\\Users\\7338797\\AppData\\Local\\Temp\\ipykernel_30380\\130444546.py:30: FutureWarning: DataFrame.applymap has been deprecated. Use DataFrame.map instead.\n",
      "  df = df.applymap(lambda x: 'No' if isinstance(x, str) and x.startswith('No ') else x)\n"
     ]
    },
    {
     "name": "stdout",
     "output_type": "stream",
     "text": [
      "\n",
      "There are 0 null values\n",
      "There are float64 dtype\n",
      "\n"
     ]
    }
   ],
   "source": [
    "churn_new = prep_new_data(churn_new_orig)"
   ]
  },
  {
   "cell_type": "code",
   "execution_count": 14,
   "id": "ad8d20f5-8936-4a25-b18b-fc71d6553d87",
   "metadata": {},
   "outputs": [],
   "source": [
    "x_train, y_train, psn_train = split_data_train(churn_train)"
   ]
  },
  {
   "cell_type": "code",
   "execution_count": 15,
   "id": "b4d869bd-074b-483a-be46-10af95c951b3",
   "metadata": {},
   "outputs": [],
   "source": [
    "x_new, psn_new = split_new_data(churn_new)"
   ]
  },
  {
   "cell_type": "code",
   "execution_count": 16,
   "id": "5822a231-2609-408e-9fc5-c2f3c28c1546",
   "metadata": {},
   "outputs": [],
   "source": [
    "model = training_random_forest(12, 9, 1, x_train, y_train)"
   ]
  },
  {
   "cell_type": "code",
   "execution_count": 17,
   "id": "3c7c0df0-f008-4e18-92b6-10f565966dcc",
   "metadata": {},
   "outputs": [
    {
     "data": {
      "text/html": [
       "<div>\n",
       "<style scoped>\n",
       "    .dataframe tbody tr th:only-of-type {\n",
       "        vertical-align: middle;\n",
       "    }\n",
       "\n",
       "    .dataframe tbody tr th {\n",
       "        vertical-align: top;\n",
       "    }\n",
       "\n",
       "    .dataframe thead th {\n",
       "        text-align: right;\n",
       "    }\n",
       "</style>\n",
       "<table border=\"1\" class=\"dataframe\">\n",
       "  <thead>\n",
       "    <tr style=\"text-align: right;\">\n",
       "      <th></th>\n",
       "      <th>customerID</th>\n",
       "      <th>gender</th>\n",
       "      <th>SeniorCitizen</th>\n",
       "      <th>Partner</th>\n",
       "      <th>Dependents</th>\n",
       "      <th>tenure</th>\n",
       "      <th>PhoneService</th>\n",
       "      <th>MultipleLines</th>\n",
       "      <th>InternetService</th>\n",
       "      <th>OnlineSecurity</th>\n",
       "      <th>...</th>\n",
       "      <th>DeviceProtection</th>\n",
       "      <th>TechSupport</th>\n",
       "      <th>StreamingTV</th>\n",
       "      <th>StreamingMovies</th>\n",
       "      <th>Contract</th>\n",
       "      <th>PaperlessBilling</th>\n",
       "      <th>PaymentMethod</th>\n",
       "      <th>MonthlyCharges</th>\n",
       "      <th>TotalCharges</th>\n",
       "      <th>churn_predict</th>\n",
       "    </tr>\n",
       "  </thead>\n",
       "  <tbody>\n",
       "    <tr>\n",
       "      <th>0</th>\n",
       "      <td>id7044</td>\n",
       "      <td>Male</td>\n",
       "      <td>0</td>\n",
       "      <td>Yes</td>\n",
       "      <td>No</td>\n",
       "      <td>15.0</td>\n",
       "      <td>Yes</td>\n",
       "      <td>No</td>\n",
       "      <td>DSL</td>\n",
       "      <td>No internet service</td>\n",
       "      <td>...</td>\n",
       "      <td>No internet service</td>\n",
       "      <td>Yes</td>\n",
       "      <td>No</td>\n",
       "      <td>Yes</td>\n",
       "      <td>Month-to-month</td>\n",
       "      <td>No</td>\n",
       "      <td>Credit card (automatic)</td>\n",
       "      <td>45.68</td>\n",
       "      <td>651.55</td>\n",
       "      <td>0.0</td>\n",
       "    </tr>\n",
       "    <tr>\n",
       "      <th>1</th>\n",
       "      <td>id7045</td>\n",
       "      <td>Male</td>\n",
       "      <td>0</td>\n",
       "      <td>No</td>\n",
       "      <td>Yes</td>\n",
       "      <td>30.0</td>\n",
       "      <td>No</td>\n",
       "      <td>Yes</td>\n",
       "      <td>DSL</td>\n",
       "      <td>No internet service</td>\n",
       "      <td>...</td>\n",
       "      <td>Yes</td>\n",
       "      <td>No internet service</td>\n",
       "      <td>Yes</td>\n",
       "      <td>Yes</td>\n",
       "      <td>Month-to-month</td>\n",
       "      <td>Yes</td>\n",
       "      <td>Credit card (automatic)</td>\n",
       "      <td>40.30</td>\n",
       "      <td>1359.70</td>\n",
       "      <td>0.0</td>\n",
       "    </tr>\n",
       "    <tr>\n",
       "      <th>2</th>\n",
       "      <td>id7046</td>\n",
       "      <td>Female</td>\n",
       "      <td>0</td>\n",
       "      <td>Yes</td>\n",
       "      <td>Yes</td>\n",
       "      <td>35.0</td>\n",
       "      <td>Yes</td>\n",
       "      <td>No</td>\n",
       "      <td>DSL</td>\n",
       "      <td>Yes</td>\n",
       "      <td>...</td>\n",
       "      <td>Yes</td>\n",
       "      <td>No</td>\n",
       "      <td>No internet service</td>\n",
       "      <td>No internet service</td>\n",
       "      <td>Month-to-month</td>\n",
       "      <td>Yes</td>\n",
       "      <td>Mailed check</td>\n",
       "      <td>59.78</td>\n",
       "      <td>1752.55</td>\n",
       "      <td>0.0</td>\n",
       "    </tr>\n",
       "    <tr>\n",
       "      <th>3</th>\n",
       "      <td>id7047</td>\n",
       "      <td>Male</td>\n",
       "      <td>0</td>\n",
       "      <td>No</td>\n",
       "      <td>No</td>\n",
       "      <td>37.0</td>\n",
       "      <td>Yes</td>\n",
       "      <td>Yes</td>\n",
       "      <td>DSL</td>\n",
       "      <td>Yes</td>\n",
       "      <td>...</td>\n",
       "      <td>Yes</td>\n",
       "      <td>No internet service</td>\n",
       "      <td>No</td>\n",
       "      <td>Yes</td>\n",
       "      <td>Month-to-month</td>\n",
       "      <td>Yes</td>\n",
       "      <td>Electronic check</td>\n",
       "      <td>58.39</td>\n",
       "      <td>541.90</td>\n",
       "      <td>0.0</td>\n",
       "    </tr>\n",
       "    <tr>\n",
       "      <th>4</th>\n",
       "      <td>id7049</td>\n",
       "      <td>Female</td>\n",
       "      <td>1</td>\n",
       "      <td>No</td>\n",
       "      <td>No</td>\n",
       "      <td>31.0</td>\n",
       "      <td>Yes</td>\n",
       "      <td>Yes</td>\n",
       "      <td>Fiber optic</td>\n",
       "      <td>No</td>\n",
       "      <td>...</td>\n",
       "      <td>Yes</td>\n",
       "      <td>No internet service</td>\n",
       "      <td>No internet service</td>\n",
       "      <td>No</td>\n",
       "      <td>Two year</td>\n",
       "      <td>No</td>\n",
       "      <td>Bank transfer (automatic)</td>\n",
       "      <td>87.32</td>\n",
       "      <td>845.60</td>\n",
       "      <td>0.0</td>\n",
       "    </tr>\n",
       "    <tr>\n",
       "      <th>...</th>\n",
       "      <td>...</td>\n",
       "      <td>...</td>\n",
       "      <td>...</td>\n",
       "      <td>...</td>\n",
       "      <td>...</td>\n",
       "      <td>...</td>\n",
       "      <td>...</td>\n",
       "      <td>...</td>\n",
       "      <td>...</td>\n",
       "      <td>...</td>\n",
       "      <td>...</td>\n",
       "      <td>...</td>\n",
       "      <td>...</td>\n",
       "      <td>...</td>\n",
       "      <td>...</td>\n",
       "      <td>...</td>\n",
       "      <td>...</td>\n",
       "      <td>...</td>\n",
       "      <td>...</td>\n",
       "      <td>...</td>\n",
       "      <td>...</td>\n",
       "    </tr>\n",
       "    <tr>\n",
       "      <th>23413</th>\n",
       "      <td>id32038</td>\n",
       "      <td>Male</td>\n",
       "      <td>0</td>\n",
       "      <td>No</td>\n",
       "      <td>No</td>\n",
       "      <td>10.0</td>\n",
       "      <td>Yes</td>\n",
       "      <td>Yes</td>\n",
       "      <td>Fiber optic</td>\n",
       "      <td>No internet service</td>\n",
       "      <td>...</td>\n",
       "      <td>Yes</td>\n",
       "      <td>Yes</td>\n",
       "      <td>Yes</td>\n",
       "      <td>No internet service</td>\n",
       "      <td>Month-to-month</td>\n",
       "      <td>Yes</td>\n",
       "      <td>Credit card (automatic)</td>\n",
       "      <td>91.82</td>\n",
       "      <td>867.30</td>\n",
       "      <td>1.0</td>\n",
       "    </tr>\n",
       "    <tr>\n",
       "      <th>23414</th>\n",
       "      <td>id32039</td>\n",
       "      <td>Male</td>\n",
       "      <td>0</td>\n",
       "      <td>No</td>\n",
       "      <td>Yes</td>\n",
       "      <td>16.0</td>\n",
       "      <td>Yes</td>\n",
       "      <td>Yes</td>\n",
       "      <td>DSL</td>\n",
       "      <td>Yes</td>\n",
       "      <td>...</td>\n",
       "      <td>No</td>\n",
       "      <td>No</td>\n",
       "      <td>No</td>\n",
       "      <td>No internet service</td>\n",
       "      <td>Month-to-month</td>\n",
       "      <td>No</td>\n",
       "      <td>Mailed check</td>\n",
       "      <td>71.69</td>\n",
       "      <td>7962.20</td>\n",
       "      <td>0.0</td>\n",
       "    </tr>\n",
       "    <tr>\n",
       "      <th>23415</th>\n",
       "      <td>id32040</td>\n",
       "      <td>Male</td>\n",
       "      <td>0</td>\n",
       "      <td>No</td>\n",
       "      <td>Yes</td>\n",
       "      <td>34.0</td>\n",
       "      <td>Yes</td>\n",
       "      <td>Yes</td>\n",
       "      <td>Fiber optic</td>\n",
       "      <td>No internet service</td>\n",
       "      <td>...</td>\n",
       "      <td>No</td>\n",
       "      <td>Yes</td>\n",
       "      <td>Yes</td>\n",
       "      <td>No</td>\n",
       "      <td>One year</td>\n",
       "      <td>Yes</td>\n",
       "      <td>Mailed check</td>\n",
       "      <td>86.96</td>\n",
       "      <td>374.80</td>\n",
       "      <td>0.0</td>\n",
       "    </tr>\n",
       "    <tr>\n",
       "      <th>23416</th>\n",
       "      <td>id32041</td>\n",
       "      <td>Male</td>\n",
       "      <td>0</td>\n",
       "      <td>Yes</td>\n",
       "      <td>Yes</td>\n",
       "      <td>33.0</td>\n",
       "      <td>Yes</td>\n",
       "      <td>Yes</td>\n",
       "      <td>Fiber optic</td>\n",
       "      <td>No</td>\n",
       "      <td>...</td>\n",
       "      <td>No</td>\n",
       "      <td>No</td>\n",
       "      <td>No</td>\n",
       "      <td>No internet service</td>\n",
       "      <td>Month-to-month</td>\n",
       "      <td>Yes</td>\n",
       "      <td>Mailed check</td>\n",
       "      <td>76.12</td>\n",
       "      <td>238.15</td>\n",
       "      <td>0.0</td>\n",
       "    </tr>\n",
       "    <tr>\n",
       "      <th>23417</th>\n",
       "      <td>id32042</td>\n",
       "      <td>Female</td>\n",
       "      <td>0</td>\n",
       "      <td>No</td>\n",
       "      <td>No</td>\n",
       "      <td>32.0</td>\n",
       "      <td>Yes</td>\n",
       "      <td>No</td>\n",
       "      <td>Fiber optic</td>\n",
       "      <td>No</td>\n",
       "      <td>...</td>\n",
       "      <td>No</td>\n",
       "      <td>Yes</td>\n",
       "      <td>Yes</td>\n",
       "      <td>No</td>\n",
       "      <td>Month-to-month</td>\n",
       "      <td>Yes</td>\n",
       "      <td>Bank transfer (automatic)</td>\n",
       "      <td>98.71</td>\n",
       "      <td>2021.20</td>\n",
       "      <td>0.0</td>\n",
       "    </tr>\n",
       "  </tbody>\n",
       "</table>\n",
       "<p>23418 rows × 21 columns</p>\n",
       "</div>"
      ],
      "text/plain": [
       "      customerID  gender  SeniorCitizen Partner Dependents  tenure  \\\n",
       "0         id7044    Male              0     Yes         No    15.0   \n",
       "1         id7045    Male              0      No        Yes    30.0   \n",
       "2         id7046  Female              0     Yes        Yes    35.0   \n",
       "3         id7047    Male              0      No         No    37.0   \n",
       "4         id7049  Female              1      No         No    31.0   \n",
       "...          ...     ...            ...     ...        ...     ...   \n",
       "23413    id32038    Male              0      No         No    10.0   \n",
       "23414    id32039    Male              0      No        Yes    16.0   \n",
       "23415    id32040    Male              0      No        Yes    34.0   \n",
       "23416    id32041    Male              0     Yes        Yes    33.0   \n",
       "23417    id32042  Female              0      No         No    32.0   \n",
       "\n",
       "      PhoneService MultipleLines InternetService       OnlineSecurity  ...  \\\n",
       "0              Yes            No             DSL  No internet service  ...   \n",
       "1               No           Yes             DSL  No internet service  ...   \n",
       "2              Yes            No             DSL                  Yes  ...   \n",
       "3              Yes           Yes             DSL                  Yes  ...   \n",
       "4              Yes           Yes     Fiber optic                   No  ...   \n",
       "...            ...           ...             ...                  ...  ...   \n",
       "23413          Yes           Yes     Fiber optic  No internet service  ...   \n",
       "23414          Yes           Yes             DSL                  Yes  ...   \n",
       "23415          Yes           Yes     Fiber optic  No internet service  ...   \n",
       "23416          Yes           Yes     Fiber optic                   No  ...   \n",
       "23417          Yes            No     Fiber optic                   No  ...   \n",
       "\n",
       "          DeviceProtection          TechSupport          StreamingTV  \\\n",
       "0      No internet service                  Yes                   No   \n",
       "1                      Yes  No internet service                  Yes   \n",
       "2                      Yes                   No  No internet service   \n",
       "3                      Yes  No internet service                   No   \n",
       "4                      Yes  No internet service  No internet service   \n",
       "...                    ...                  ...                  ...   \n",
       "23413                  Yes                  Yes                  Yes   \n",
       "23414                   No                   No                   No   \n",
       "23415                   No                  Yes                  Yes   \n",
       "23416                   No                   No                   No   \n",
       "23417                   No                  Yes                  Yes   \n",
       "\n",
       "           StreamingMovies        Contract PaperlessBilling  \\\n",
       "0                      Yes  Month-to-month               No   \n",
       "1                      Yes  Month-to-month              Yes   \n",
       "2      No internet service  Month-to-month              Yes   \n",
       "3                      Yes  Month-to-month              Yes   \n",
       "4                       No        Two year               No   \n",
       "...                    ...             ...              ...   \n",
       "23413  No internet service  Month-to-month              Yes   \n",
       "23414  No internet service  Month-to-month               No   \n",
       "23415                   No        One year              Yes   \n",
       "23416  No internet service  Month-to-month              Yes   \n",
       "23417                   No  Month-to-month              Yes   \n",
       "\n",
       "                   PaymentMethod MonthlyCharges  TotalCharges  churn_predict  \n",
       "0        Credit card (automatic)          45.68        651.55            0.0  \n",
       "1        Credit card (automatic)          40.30       1359.70            0.0  \n",
       "2                   Mailed check          59.78       1752.55            0.0  \n",
       "3               Electronic check          58.39        541.90            0.0  \n",
       "4      Bank transfer (automatic)          87.32        845.60            0.0  \n",
       "...                          ...            ...           ...            ...  \n",
       "23413    Credit card (automatic)          91.82        867.30            1.0  \n",
       "23414               Mailed check          71.69       7962.20            0.0  \n",
       "23415               Mailed check          86.96        374.80            0.0  \n",
       "23416               Mailed check          76.12        238.15            0.0  \n",
       "23417  Bank transfer (automatic)          98.71       2021.20            0.0  \n",
       "\n",
       "[23418 rows x 21 columns]"
      ]
     },
     "execution_count": 17,
     "metadata": {},
     "output_type": "execute_result"
    }
   ],
   "source": [
    "churn_new_orig_with_predict = prediction_random_forest(model, x_new, churn_new_orig)\n",
    "churn_new_orig_with_predict"
   ]
  },
  {
   "cell_type": "code",
   "execution_count": 18,
   "id": "f9a3c2b3-d276-4e8a-b8e7-f143ce2f638c",
   "metadata": {},
   "outputs": [
    {
     "name": "stdout",
     "output_type": "stream",
     "text": [
      "                                    feature  importance\n",
      "3                                    tenure    0.141397\n",
      "28                  contract_Month-to-month    0.137385\n",
      "7                              totalcharges    0.114628\n",
      "6                            monthlycharges    0.093817\n",
      "30                        contract_Two year    0.072314\n",
      "8                              num_services    0.048551\n",
      "14              internetservice_Fiber optic    0.046043\n",
      "29                        contract_One year    0.044088\n",
      "15                       internetservice_No    0.028034\n",
      "13                      internetservice_DSL    0.025412\n",
      "33           paymentmethod_Electronic check    0.025315\n",
      "23                          techsupport_Yes    0.023023\n",
      "5                          paperlessbilling    0.019060\n",
      "0                             seniorcitizen    0.016084\n",
      "17                       onlinesecurity_Yes    0.015964\n",
      "16                        onlinesecurity_No    0.012410\n",
      "19                         onlinebackup_Yes    0.010071\n",
      "10                              gender_Male    0.008663\n",
      "26                       streamingmovies_No    0.008209\n",
      "1                                   partner    0.007899\n",
      "25                          streamingtv_Yes    0.007894\n",
      "9                             gender_Female    0.007817\n",
      "21                     deviceprotection_Yes    0.007803\n",
      "31  paymentmethod_Bank transfer (automatic)    0.007705\n",
      "27                      streamingmovies_Yes    0.007589\n",
      "2                                dependents    0.006904\n",
      "12                        multiplelines_Yes    0.006831\n",
      "24                           streamingtv_No    0.006762\n",
      "11                         multiplelines_No    0.006607\n",
      "32    paymentmethod_Credit card (automatic)    0.006415\n",
      "22                           techsupport_No    0.006364\n",
      "20                      deviceprotection_No    0.005868\n",
      "4                              phoneservice    0.005793\n",
      "34               paymentmethod_Mailed check    0.005771\n",
      "18                          onlinebackup_No    0.005513\n"
     ]
    },
    {
     "data": {
      "image/png": "[encoded data removed]",
      "text/plain": [
       "<Figure size 640x480 with 1 Axes>"
      ]
     },
     "metadata": {},
     "output_type": "display_data"
    }
   ],
   "source": [
    "random_forest_feature_importance(model, x_new)"
   ]
  },
  {
   "cell_type": "markdown",
   "id": "d0164f8c-56ba-4e83-9691-2a9bc5a0195f",
   "metadata": {},
   "source": [
    "## Accuracy"
   ]
  },
  {
   "cell_type": "code",
   "execution_count": 19,
   "id": "b9b7a410-e341-4596-ac60-170797661100",
   "metadata": {},
   "outputs": [
    {
     "data": {
      "text/plain": [
       "0.841296928327645"
      ]
     },
     "execution_count": 19,
     "metadata": {},
     "output_type": "execute_result"
    }
   ],
   "source": [
    "y_train_pred_RandomForest = model.predict(x_train)\n",
    "\n",
    "test_acc = accuracy_score(y_train, y_train_pred_RandomForest)\n",
    "test_acc"
   ]
  },
  {
   "cell_type": "markdown",
   "id": "3e6c8e72-cd09-4201-a766-0442671ac320",
   "metadata": {},
   "source": [
    "## Saving new data prediction to csv"
   ]
  },
  {
   "cell_type": "code",
   "execution_count": 20,
   "id": "2ac6ae93-7fdd-4bed-818f-85ebf3e8d8e1",
   "metadata": {},
   "outputs": [],
   "source": [
    "churn_new_orig_with_predict['churn_predict'] = churn_new_orig_with_predict['churn_predict'].apply(lambda x: 'Yes' if x == 1 else 'No')"
   ]
  },
  {
   "cell_type": "code",
   "execution_count": 21,
   "id": "6e056460-82f8-4b60-9d0c-d717c4708f8b",
   "metadata": {},
   "outputs": [],
   "source": [
    "churn_new_orig_with_predict.to_csv('churn_prediction.csv', index=False)"
   ]
  }
 ],
 "metadata": {
  "kernelspec": {
   "display_name": "Python 3 (ipykernel)",
   "language": "python",
   "name": "python3"
  },
  "language_info": {
   "codemirror_mode": {
    "name": "ipython",
    "version": 3
   },
   "file_extension": ".py",
   "mimetype": "text/x-python",
   "name": "python",
   "nbconvert_exporter": "python",
   "pygments_lexer": "ipython3",
   "version": "3.12.7"
  }
 },
 "nbformat": 4,
 "nbformat_minor": 5
}
